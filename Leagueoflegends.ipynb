{
  "nbformat": 4,
  "nbformat_minor": 0,
  "metadata": {
    "colab": {
      "name": "Untitled5.ipynb",
      "provenance": [],
      "authorship_tag": "ABX9TyMmGVqOo2FxA+kQqEhYoq3K",
      "include_colab_link": true
    },
    "kernelspec": {
      "name": "python3",
      "display_name": "Python 3"
    }
  },
  "cells": [
    {
      "cell_type": "markdown",
      "metadata": {
        "id": "view-in-github",
        "colab_type": "text"
      },
      "source": [
        "<a href=\"https://colab.research.google.com/github/andreventura02/league-of-legends/blob/master/Leagueoflegends.ipynb\" target=\"_parent\"><img src=\"https://colab.research.google.com/assets/colab-badge.svg\" alt=\"Open In Colab\"/></a>"
      ]
    },
    {
      "cell_type": "markdown",
      "metadata": {
        "id": "QEXGFz0P7mVc",
        "colab_type": "text"
      },
      "source": [
        "<p align=\"center\"><img src=\"https://raw.githubusercontent.com/andreventura02/league-of-legends/master/logo.png\" height=\"100px\"></p> \n",
        "\n",
        " \n",
        " \n",
        "\n",
        "#Explicando o mau desempenho de times brasileiros no mundial de League of Legends \n",
        "\n",
        "O Brasil vem participando do torneio desde 2014, sendo representado pelos times campeões do CBLOL(Campeonato Brasileiro de League of Legends). A melhor participação foi da PaiN Gaming - 2015, mesmo sendo considerada a melhor participação de um time brasileiro, não se classificou para os playoffs da World Championship. \n",
        "\n",
        " \n",
        " \n",
        "\n",
        "##Analisando o cenário brasileiro de League of Legends \n",
        "\n",
        "Abaixo temos alguns gráficos que mostrarão a diferença entre o cenário BR e KR: \n",
        "\n",
        " \n",
        " \n",
        "\n",
        "<p align=\"center\"><img src=\"https://raw.githubusercontent.com/andreventura02/league-of-legends/master/farm.png\" ></p> \n",
        "\n",
        " \n",
        " \n",
        "\n",
        "Vamos começar analisando o gráfico de Farm médio por elo, logo no inicio percebemos que o cenario Coreano tem um farm superior ao Brasileiro do Ferro até Ouro, em seguida o Brasil supera do Platina até Desafiante. Mas isso não quer dizer que farmamos melhor, isso nos diz que: \n",
        "\n",
        "* Farmamos pior em todos os elos, basta observarmos que a duração média das partidas do Ferro ao Ouro são parecidas, por isso podemos observar a diferença de farm entre os cenários. \n",
        "\n",
        "* Na Coréia podemos perceber uma curva que nos indica menos farm do Platina ao Grão-mestre, porém isso nos mostra a duração das partidas menores, enquanto no Brasil se mantém constante indicando que o nosso primeiro problema é conseguir finalizar os jogos mesmo com muito recurso. \n",
        "\n",
        " \n",
        " \n",
        "\n",
        "###Em seguida iremos observar o grafico de Ouro: \n",
        "\n",
        " \n",
        " \n",
        "\n",
        "<p align=\"center\"><img src=\"https://raw.githubusercontent.com/andreventura02/league-of-legends/master/ouro.png\" ></p> \n",
        "\n",
        " \n",
        " \n",
        "\n",
        "Nesse gráfico, apenas reafirmamos o que foi observado anteriormente, as partidas brasileiras são muito longas em relação as coreanas, então podemos afirmar novamente a falta de estratégia dos jogadores para finalizar as partidas. \n",
        "\n",
        " \n",
        " \n",
        "\n",
        "###Agora nosso ultimo gráfico, Sentinelas de controle: \n",
        "\n",
        " \n",
        " \n",
        "\n",
        "<p align=\"center\"><img src=\"https://raw.githubusercontent.com/andreventura02/league-of-legends/master/sentinelas.png\" ></p> \n",
        "\n",
        " \n",
        " \n",
        "\n",
        "Uma das coisas mais importantes do League of Legends é a visão do mapa, observando o gráfico logo vemos que os jogadores brasileiros em todos os elos compram menos sentinelas de controle que os jogadores coreanos. \n",
        "\n",
        "* Os brasileiros do Mestre compram o mesmo tanto de sentinelas de controle que os jogadores coreanos do diamante, os jogadores brasileiros do diamante compram menos sentinelas de controle que os jogadores coreanos do ouro. \n",
        "\n",
        " \n",
        " \n",
        "\n",
        "Apenas observando os gráficos por outra perspectiva encontramos dois possíveis problemas: Falta de estratégia para finalização da partida mesmo com recursos e falta de visão no mapa de Summoner's Rift. \n",
        "\n",
        " \n",
        " \n",
        "\n",
        "Dados:[KR](https://www.op.gg/statistics/tier/) [BR](https://br.op.gg/statistics/tier/) \n"
      ]
    },
    {
      "cell_type": "markdown",
      "metadata": {
        "id": "Ztf2t2al2iZV",
        "colab_type": "text"
      },
      "source": [
        ""
      ]
    }
  ]
}